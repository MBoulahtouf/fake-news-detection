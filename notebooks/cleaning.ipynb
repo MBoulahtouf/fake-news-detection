{
 "cells": [
  {
   "cell_type": "markdown",
   "id": "3a8537c5",
   "metadata": {},
   "source": [
    "# Data Cleaning & Processing\n",
    "Ce notebook est consacré au nettoyage et au preprocessing des données pour le projet de détection des fake news. Nous travaillerons avec différents ensembles de données afin de les préparer pour une analyse et une modélisation plus poussées."
   ]
  },
  {
   "cell_type": "markdown",
   "id": "5b448eca",
   "metadata": {},
   "source": [
    "## Import lib\n",
    "Nous commencerons par importer les bibliothèques essentielles à nos tâches de traitement des données.\n"
   ]
  },
  {
   "cell_type": "code",
   "execution_count": 3,
   "id": "405b9f54",
   "metadata": {},
   "outputs": [],
   "source": [
    "import pandas as pd\n",
    "import numpy as np"
   ]
  },
  {
   "cell_type": "code",
   "execution_count": 8,
   "id": "1411522b",
   "metadata": {},
   "outputs": [],
   "source": [
    "train_bodies = pd.read_csv('../data/raw/train_bodies.csv')\n",
    "train_stances = pd.read_csv('../data/raw/train_stances.csv')\n",
    "test_bodies = pd.read_csv('../data/raw/test_bodies.csv')\n",
    "test_stances_unlabeled = pd.read_csv('../data/raw/test_stances_unlabeled.csv')"
   ]
  },
  {
   "cell_type": "markdown",
   "id": "8a1955db",
   "metadata": {},
   "source": [
    "## Inspection initiale des données\n",
    "Aperçu rapide de la structure des données, des valeurs manquantes et des statistiques de base."
   ]
  },
  {
   "cell_type": "code",
   "execution_count": 11,
   "id": "a68ed0cc",
   "metadata": {},
   "outputs": [
    {
     "data": {
      "text/html": [
       "<div>\n",
       "<style scoped>\n",
       "    .dataframe tbody tr th:only-of-type {\n",
       "        vertical-align: middle;\n",
       "    }\n",
       "\n",
       "    .dataframe tbody tr th {\n",
       "        vertical-align: top;\n",
       "    }\n",
       "\n",
       "    .dataframe thead th {\n",
       "        text-align: right;\n",
       "    }\n",
       "</style>\n",
       "<table border=\"1\" class=\"dataframe\">\n",
       "  <thead>\n",
       "    <tr style=\"text-align: right;\">\n",
       "      <th></th>\n",
       "      <th>Headline</th>\n",
       "      <th>Body ID</th>\n",
       "      <th>Stance</th>\n",
       "    </tr>\n",
       "  </thead>\n",
       "  <tbody>\n",
       "    <tr>\n",
       "      <th>0</th>\n",
       "      <td>Police find mass graves with at least '15 bodi...</td>\n",
       "      <td>712</td>\n",
       "      <td>unrelated</td>\n",
       "    </tr>\n",
       "    <tr>\n",
       "      <th>1</th>\n",
       "      <td>Hundreds of Palestinians flee floods in Gaza a...</td>\n",
       "      <td>158</td>\n",
       "      <td>agree</td>\n",
       "    </tr>\n",
       "    <tr>\n",
       "      <th>2</th>\n",
       "      <td>Christian Bale passes on role of Steve Jobs, a...</td>\n",
       "      <td>137</td>\n",
       "      <td>unrelated</td>\n",
       "    </tr>\n",
       "    <tr>\n",
       "      <th>3</th>\n",
       "      <td>HBO and Apple in Talks for $15/Month Apple TV ...</td>\n",
       "      <td>1034</td>\n",
       "      <td>unrelated</td>\n",
       "    </tr>\n",
       "    <tr>\n",
       "      <th>4</th>\n",
       "      <td>Spider burrowed through tourist's stomach and ...</td>\n",
       "      <td>1923</td>\n",
       "      <td>disagree</td>\n",
       "    </tr>\n",
       "  </tbody>\n",
       "</table>\n",
       "</div>"
      ],
      "text/plain": [
       "                                            Headline  Body ID     Stance\n",
       "0  Police find mass graves with at least '15 bodi...      712  unrelated\n",
       "1  Hundreds of Palestinians flee floods in Gaza a...      158      agree\n",
       "2  Christian Bale passes on role of Steve Jobs, a...      137  unrelated\n",
       "3  HBO and Apple in Talks for $15/Month Apple TV ...     1034  unrelated\n",
       "4  Spider burrowed through tourist's stomach and ...     1923   disagree"
      ]
     },
     "execution_count": 11,
     "metadata": {},
     "output_type": "execute_result"
    }
   ],
   "source": [
    "#train_bodies.head()\n",
    "train_stances.head()\n",
    "#test_bodies.head()\n",
    "#test_stances_unlabeled.head()"
   ]
  },
  {
   "cell_type": "markdown",
   "id": "43faa7df",
   "metadata": {},
   "source": [
    "## Nettoyage des données\n",
    "Dans cette section, nous traiterons les valeurs manquantes, supprimerons les doublons et normaliserons les données textuelles."
   ]
  },
  {
   "cell_type": "code",
   "execution_count": 16,
   "id": "d5381de8",
   "metadata": {
    "scrolled": true
   },
   "outputs": [
    {
     "data": {
      "text/plain": [
       "0    a small meteorite crashed into a wooded area i...\n",
       "1    last week we hinted at what was to come as ebo...\n",
       "2     newser    wonder how long a quarter pounder w...\n",
       "3    posting photos of a gun toting child online  i...\n",
       "4    at least    suspected boko haram insurgents we...\n",
       "Name: articleBody, dtype: object"
      ]
     },
     "execution_count": 16,
     "metadata": {},
     "output_type": "execute_result"
    }
   ],
   "source": [
    "train_bodies['articleBody'] = train_bodies['articleBody'].str.lower().str.replace('[^a-zA-Z]', ' ', regex=True)\n",
    "train_bodies['articleBody'].head()"
   ]
  },
  {
   "cell_type": "markdown",
   "id": "8f4c3efa",
   "metadata": {},
   "source": [
    "## Groupement des ensembles de données\n",
    "Nos données sont réparties entre les corps d'articles (bodies) et les prises de position ou avis sur leurs véracités (stances). On fusionne ces ensembles de données selon une clé commune, ici l'identifiant d'article (ID) pour faire la jonction."
   ]
  },
  {
   "cell_type": "code",
   "execution_count": 20,
   "id": "7323ffe3",
   "metadata": {},
   "outputs": [
    {
     "data": {
      "text/html": [
       "<div>\n",
       "<style scoped>\n",
       "    .dataframe tbody tr th:only-of-type {\n",
       "        vertical-align: middle;\n",
       "    }\n",
       "\n",
       "    .dataframe tbody tr th {\n",
       "        vertical-align: top;\n",
       "    }\n",
       "\n",
       "    .dataframe thead th {\n",
       "        text-align: right;\n",
       "    }\n",
       "</style>\n",
       "<table border=\"1\" class=\"dataframe\">\n",
       "  <thead>\n",
       "    <tr style=\"text-align: right;\">\n",
       "      <th></th>\n",
       "      <th>Headline</th>\n",
       "      <th>Body ID</th>\n",
       "      <th>articleBody</th>\n",
       "    </tr>\n",
       "  </thead>\n",
       "  <tbody>\n",
       "    <tr>\n",
       "      <th>0</th>\n",
       "      <td>Ferguson riots: Pregnant woman loses eye after...</td>\n",
       "      <td>2008</td>\n",
       "      <td>A RESPECTED senior French police officer inves...</td>\n",
       "    </tr>\n",
       "    <tr>\n",
       "      <th>1</th>\n",
       "      <td>Crazy Conservatives Are Sure a Gitmo Detainee ...</td>\n",
       "      <td>1550</td>\n",
       "      <td>Dave Morin's social networking company Path is...</td>\n",
       "    </tr>\n",
       "    <tr>\n",
       "      <th>2</th>\n",
       "      <td>A Russian Guy Says His Justin Bieber Ringtone ...</td>\n",
       "      <td>2</td>\n",
       "      <td>A bereaved Afghan mother took revenge on the T...</td>\n",
       "    </tr>\n",
       "    <tr>\n",
       "      <th>3</th>\n",
       "      <td>Zombie Cat: Buried Kitty Believed Dead, Meows ...</td>\n",
       "      <td>1793</td>\n",
       "      <td>Hewlett-Packard is officially splitting in two...</td>\n",
       "    </tr>\n",
       "    <tr>\n",
       "      <th>4</th>\n",
       "      <td>Argentina's President Adopts Boy to End Werewo...</td>\n",
       "      <td>37</td>\n",
       "      <td>An airline passenger headed to Dallas was remo...</td>\n",
       "    </tr>\n",
       "  </tbody>\n",
       "</table>\n",
       "</div>"
      ],
      "text/plain": [
       "                                            Headline  Body ID  \\\n",
       "0  Ferguson riots: Pregnant woman loses eye after...     2008   \n",
       "1  Crazy Conservatives Are Sure a Gitmo Detainee ...     1550   \n",
       "2  A Russian Guy Says His Justin Bieber Ringtone ...        2   \n",
       "3  Zombie Cat: Buried Kitty Believed Dead, Meows ...     1793   \n",
       "4  Argentina's President Adopts Boy to End Werewo...       37   \n",
       "\n",
       "                                         articleBody  \n",
       "0  A RESPECTED senior French police officer inves...  \n",
       "1  Dave Morin's social networking company Path is...  \n",
       "2  A bereaved Afghan mother took revenge on the T...  \n",
       "3  Hewlett-Packard is officially splitting in two...  \n",
       "4  An airline passenger headed to Dallas was remo...  "
      ]
     },
     "execution_count": 20,
     "metadata": {},
     "output_type": "execute_result"
    }
   ],
   "source": [
    "train_data = train_stances.merge(train_bodies, on='Body ID', how='left')\n",
    "test_data = test_stances_unlabeled.merge(test_bodies, on='Body ID', how='left')\n",
    "#train_data.head()\n",
    "test_data.head()"
   ]
  },
  {
   "cell_type": "code",
   "execution_count": null,
   "id": "0c607a65",
   "metadata": {},
   "outputs": [],
   "source": []
  }
 ],
 "metadata": {
  "kernelspec": {
   "display_name": "Python 3 (ipykernel)",
   "language": "python",
   "name": "python3"
  },
  "language_info": {
   "codemirror_mode": {
    "name": "ipython",
    "version": 3
   },
   "file_extension": ".py",
   "mimetype": "text/x-python",
   "name": "python",
   "nbconvert_exporter": "python",
   "pygments_lexer": "ipython3",
   "version": "3.8.10"
  }
 },
 "nbformat": 4,
 "nbformat_minor": 5
}
